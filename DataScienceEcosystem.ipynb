{
 "cells": [
  {
   "cell_type": "markdown",
   "id": "cccdddb0-cbd3-4d7e-8af5-194e0eb7c253",
   "metadata": {},
   "source": [
    "# Data Science Tools and Ecosystem"
   ]
  },
  {
   "cell_type": "markdown",
   "id": "a4c4983c-c0fb-497f-a4dd-ce1ecf979a6f",
   "metadata": {},
   "source": [
    "In this notebook, Data Science Tools and Ecosytem are summarized."
   ]
  },
  {
   "cell_type": "markdown",
   "id": "c3a0be74-b3ed-4e53-9325-327bd62a2390",
   "metadata": {},
   "source": [
    "**Objectives:**\n",
    "- List some popular languages that Data Scientists use.\n",
    "- Commonly used libraries used by Data Scientists.\n",
    "- Examples of evaluating arithmetic expressions in Python. "
   ]
  },
  {
   "cell_type": "markdown",
   "id": "292b1d1f-b319-4b48-bb82-a309dafd6244",
   "metadata": {},
   "source": [
    "Some of the popular languages that Data Scientists use are:\n",
    "1. Python\n",
    "2. R\n",
    "3. SQL"
   ]
  },
  {
   "cell_type": "markdown",
   "id": "4a947d9e-b9e3-4e6e-ae06-f6160e442267",
   "metadata": {},
   "source": [
    "Some of the commonly used libraries used by Data Scientists include:\n",
    "1. Pandas\n",
    "2. NumPy\n",
    "3. Matplotlib\n",
    "4. Seaborn\n",
    "5. Scikit-learn"
   ]
  },
  {
   "cell_type": "markdown",
   "id": "e226b926-80e1-4ae3-9570-c52d344772f9",
   "metadata": {},
   "source": [
    "|Data Science Tools|\n",
    "|------------------|\n",
    "|Jupyter|\n",
    "|Rstudio|\n",
    "|Spyder|"
   ]
  },
  {
   "cell_type": "markdown",
   "id": "d57cb214-fbf9-46fd-84a7-d80d8f87ccc0",
   "metadata": {},
   "source": [
    "### Below are a few examples of evaluating arithmetic expressions in Python"
   ]
  },
  {
   "cell_type": "code",
   "execution_count": 8,
   "id": "e37aacef-9b1a-4dc7-8887-2ac69c3585f4",
   "metadata": {},
   "outputs": [
    {
     "name": "stdout",
     "output_type": "stream",
     "text": [
      "12\n"
     ]
    }
   ],
   "source": [
    "result = 20 - 8\n",
    "print(result)"
   ]
  },
  {
   "cell_type": "code",
   "execution_count": 9,
   "id": "333b39ea-1118-493c-aa4f-1f32249a7954",
   "metadata": {},
   "outputs": [
    {
     "name": "stdout",
     "output_type": "stream",
     "text": [
      "17\n"
     ]
    }
   ],
   "source": [
    "# This is a simple arithmetic expression to multiply then add integers.\n",
    "result = (3 * 4) + 5\n",
    "print(result)\n"
   ]
  },
  {
   "cell_type": "code",
   "execution_count": 10,
   "id": "6cad4690-922b-4923-991f-57f1b52f9430",
   "metadata": {},
   "outputs": [
    {
     "name": "stdout",
     "output_type": "stream",
     "text": [
      "3.3333333333333335\n"
     ]
    }
   ],
   "source": [
    "# This will convert 200 minutes to hours by dividing by 60.\n",
    "minutes = 200\n",
    "hours = minutes / 60\n",
    "print(hours)\n"
   ]
  },
  {
   "cell_type": "markdown",
   "id": "9ba9ac6a-45ce-427f-ad4f-71abce531941",
   "metadata": {},
   "source": [
    "## Author\n",
    "Janine Viljoen\n"
   ]
  },
  {
   "cell_type": "code",
   "execution_count": null,
   "id": "49e5de64-939c-4289-aad2-b3d2a7528b25",
   "metadata": {},
   "outputs": [],
   "source": []
  }
 ],
 "metadata": {
  "kernelspec": {
   "display_name": "Python 3 (ipykernel)",
   "language": "python",
   "name": "python3"
  },
  "language_info": {
   "codemirror_mode": {
    "name": "ipython",
    "version": 3
   },
   "file_extension": ".py",
   "mimetype": "text/x-python",
   "name": "python",
   "nbconvert_exporter": "python",
   "pygments_lexer": "ipython3",
   "version": "3.11.7"
  }
 },
 "nbformat": 4,
 "nbformat_minor": 5
}
